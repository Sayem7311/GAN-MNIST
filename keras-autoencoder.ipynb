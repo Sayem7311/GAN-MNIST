{
  "cells": [
    {
      "metadata": {
        "trusted": true
      },
      "cell_type": "code",
      "source": "%matplotlib inline",
      "execution_count": 126,
      "outputs": []
    },
    {
      "metadata": {},
      "cell_type": "markdown",
      "source": "# Generate Autoencoder (Stage 1)"
    },
    {
      "metadata": {
        "trusted": true
      },
      "cell_type": "code",
      "source": "# Import data\n\nfrom keras.datasets import mnist\nimport numpy as np\n\n(x1_train, y1_train), (x1_test, y1_test) = mnist.load_data()\n\n#x1_train = x1_train[0:1000,:,:]\n#x1_test = x1_test[0:200,:,:]\n\ninputShape = (28,28,1)\ntrainLength = 60000\ntestLength = 10000\n\nx1_train = x1_train.astype('float32') / 255\nx1_test = x1_test.astype('float32') / 255\nx1_train = np.reshape(x1_train, (len(x1_train), 28, 28, 1))\nx1_test = np.reshape(x1_test, (len(x1_test), 28, 28, 1))\n",
      "execution_count": 127,
      "outputs": []
    },
    {
      "metadata": {
        "trusted": true
      },
      "cell_type": "code",
      "source": "# Import keras layers\n\nfrom keras import backend as k\nfrom keras.models import Model, Sequential\nfrom keras.layers import Input, Conv2D, MaxPooling2D, UpSampling2D, SpatialDropout2D, Dense, Reshape, Flatten, Conv2DTranspose\n",
      "execution_count": 128,
      "outputs": []
    },
    {
      "metadata": {
        "trusted": true
      },
      "cell_type": "code",
      "source": "encoder1 = Sequential()\nencoder1.add(Conv2D(8, (3,3), activation='relu', padding='same', input_shape=inputShape)) \nencoder1.add(SpatialDropout2D(0.25))\nencoder1.add(Conv2D(8, (3,3), strides=(2,2), activation='relu', padding='same'))\n\ncodeShape1 = (14,14,8)\n\ndecoder1 = Sequential()\ndecoder1.add(Conv2DTranspose(4, (3,3), strides=(2,2), activation='relu', padding='same', input_shape=codeShape1))\ndecoder1.add(Conv2DTranspose(1, (3,3), activation='sigmoid', padding='same'))\n\nprint(encoder1.summary())\nprint(decoder1.summary())\n\ninputImage1 = Input(shape=inputShape)\nx = encoder1(inputImage1)\nx = decoder1(x)\nautoencoder1 = Model(inputImage1, x)\nautoencoder1.compile(optimizer='adam', loss='binary_crossentropy')\n",
      "execution_count": 129,
      "outputs": [
        {
          "output_type": "stream",
          "text": "_________________________________________________________________\nLayer (type)                 Output Shape              Param #   \n=================================================================\nconv2d_69 (Conv2D)           (None, 28, 28, 8)         80        \n_________________________________________________________________\nspatial_dropout2d_27 (Spatia (None, 28, 28, 8)         0         \n_________________________________________________________________\nconv2d_70 (Conv2D)           (None, 14, 14, 8)         584       \n=================================================================\nTotal params: 664\nTrainable params: 664\nNon-trainable params: 0\n_________________________________________________________________\nNone\n_________________________________________________________________\nLayer (type)                 Output Shape              Param #   \n=================================================================\nconv2d_transpose_69 (Conv2DT (None, 28, 28, 4)         292       \n_________________________________________________________________\nconv2d_transpose_70 (Conv2DT (None, 28, 28, 1)         37        \n=================================================================\nTotal params: 329\nTrainable params: 329\nNon-trainable params: 0\n_________________________________________________________________\nNone\n",
          "name": "stdout"
        }
      ]
    },
    {
      "metadata": {
        "trusted": true
      },
      "cell_type": "code",
      "source": "# training network\n\nhistory = autoencoder1.fit(x1_train, x1_train, epochs=4, batch_size=128, shuffle=True, validation_data=(x1_test,x1_test))\n\n# 0.0661",
      "execution_count": 130,
      "outputs": [
        {
          "output_type": "stream",
          "text": "Train on 60000 samples, validate on 10000 samples\nEpoch 1/4\n60000/60000 [==============================] - 181s 3ms/step - loss: 0.1624 - val_loss: 0.0689\nEpoch 2/4\n60000/60000 [==============================] - 207s 3ms/step - loss: 0.0744 - val_loss: 0.0658\nEpoch 3/4\n60000/60000 [==============================] - 214s 4ms/step - loss: 0.0702 - val_loss: 0.0648\nEpoch 4/4\n60000/60000 [==============================] - 212s 4ms/step - loss: 0.0684 - val_loss: 0.0641\n",
          "name": "stdout"
        }
      ]
    },
    {
      "metadata": {
        "trusted": true
      },
      "cell_type": "code",
      "source": "import random\nx = random.randint(0,testLength-1)\nrandImg = np.reshape(x_test[x], (1, 28, 28, 1)) \n\nresultImg = autoencoder.predict(randImg, batch_size=1)",
      "execution_count": 131,
      "outputs": []
    },
    {
      "metadata": {
        "trusted": true
      },
      "cell_type": "code",
      "source": "randImg = randImg.reshape(28,28)\nresultImg = resultImg.reshape(28,28)\n\nprint(randImg.shape)\nprint(resultImg.shape)",
      "execution_count": 132,
      "outputs": [
        {
          "output_type": "stream",
          "text": "(28, 28)\n(28, 28)\n",
          "name": "stdout"
        }
      ]
    },
    {
      "metadata": {
        "trusted": true
      },
      "cell_type": "code",
      "source": "from matplotlib import pyplot as plt\norigFig = plt.imshow(randImg, 'gray')",
      "execution_count": 133,
      "outputs": [
        {
          "output_type": "display_data",
          "data": {
            "image/png": "[encoded data removed]",
            "text/plain": "<matplotlib.figure.Figure at 0x7f3a4b07c898>"
          },
          "metadata": {}
        }
      ]
    },
    {
      "metadata": {
        "trusted": true
      },
      "cell_type": "code",
      "source": "resFig = plt.imshow(resultImg, 'gray')",
      "execution_count": 134,
      "outputs": [
        {
          "output_type": "display_data",
          "data": {
            "image/png": "[encoded data removed]",
            "text/plain": "<matplotlib.figure.Figure at 0x7f3a4a09e1d0>"
          },
          "metadata": {}
        }
      ]
    },
    {
      "metadata": {},
      "cell_type": "markdown",
      "source": "# Generate Autoencoder (Stage 2)"
    },
    {
      "metadata": {
        "trusted": true
      },
      "cell_type": "code",
      "source": "# Use encoder1 to generate the training and test-data for stage 2\n\nx2_train = encoder1.predict(np.reshape(x1_train,(len(x1_train),28,28,1)))\nx2_test = encoder1.predict(np.reshape(x1_test,(len(x1_test),28,28,1)))\n\nprint(x2_train.shape)\nprint(x2_test.shape)",
      "execution_count": 135,
      "outputs": [
        {
          "output_type": "stream",
          "text": "(60000, 14, 14, 8)\n(10000, 14, 14, 8)\n",
          "name": "stdout"
        }
      ]
    },
    {
      "metadata": {
        "trusted": true
      },
      "cell_type": "code",
      "source": "print(codeShape1)",
      "execution_count": 136,
      "outputs": [
        {
          "output_type": "stream",
          "text": "(14, 14, 8)\n",
          "name": "stdout"
        }
      ]
    },
    {
      "metadata": {
        "trusted": true
      },
      "cell_type": "code",
      "source": "encoder2 = Sequential()\nencoder2.add(Conv2D(8, (3,3), activation='relu', padding='same', input_shape=codeShape1)) \nencoder2.add(SpatialDropout2D(0.25))\nencoder2.add(Conv2D(16, (3,3), strides=(2,2), activation='relu', padding='same'))\n\ncodeShape2 = (7,7,16)\n\ndecoder2 = Sequential()\ndecoder2.add(Conv2DTranspose(8, (3,3), strides=(2,2), activation='relu', padding='same', input_shape=codeShape2))\n\nprint(encoder2.summary())\nprint(decoder2.summary())\n\ninputImage2 = Input(shape=codeShape1)\nx = encoder2(inputImage2)\nx = decoder2(x)\nautoencoder2 = Model(inputImage2, x)\nautoencoder2.compile(optimizer='adam', loss='binary_crossentropy')",
      "execution_count": 137,
      "outputs": [
        {
          "output_type": "stream",
          "text": "_________________________________________________________________\nLayer (type)                 Output Shape              Param #   \n=================================================================\nconv2d_71 (Conv2D)           (None, 14, 14, 8)         584       \n_________________________________________________________________\nspatial_dropout2d_28 (Spatia (None, 14, 14, 8)         0         \n_________________________________________________________________\nconv2d_72 (Conv2D)           (None, 7, 7, 16)          1168      \n=================================================================\nTotal params: 1,752\nTrainable params: 1,752\nNon-trainable params: 0\n_________________________________________________________________\nNone\n_________________________________________________________________\nLayer (type)                 Output Shape              Param #   \n=================================================================\nconv2d_transpose_71 (Conv2DT (None, 14, 14, 8)         1160      \n=================================================================\nTotal params: 1,160\nTrainable params: 1,160\nNon-trainable params: 0\n_________________________________________________________________\nNone\n",
          "name": "stdout"
        }
      ]
    },
    {
      "metadata": {
        "trusted": true
      },
      "cell_type": "code",
      "source": "# training network\n\nhistory = autoencoder2.fit(x2_train, x2_train, epochs=4, batch_size=128, shuffle=True, validation_data=(x2_test,x2_test))\n\n# 0.0661",
      "execution_count": 138,
      "outputs": [
        {
          "output_type": "stream",
          "text": "Train on 60000 samples, validate on 10000 samples\nEpoch 1/4\n60000/60000 [==============================] - 124s 2ms/step - loss: -0.1070 - val_loss: -1.2637\nEpoch 2/4\n60000/60000 [==============================] - 116s 2ms/step - loss: -1.1880 - val_loss: -1.3687\nEpoch 3/4\n60000/60000 [==============================] - 124s 2ms/step - loss: -1.3101 - val_loss: -1.4402\nEpoch 4/4\n60000/60000 [==============================] - 132s 2ms/step - loss: -1.3945 - val_loss: -1.4594\n",
          "name": "stdout"
        }
      ]
    },
    {
      "metadata": {
        "trusted": true
      },
      "cell_type": "code",
      "source": "# stitch together encoders and decoders to prove valid training\n\nx = random.randint(0,testLength-1)\nrandImg = np.reshape(x_test[x], (1, 28, 28, 1)) \n\nresultImg = decoder1.predict(decoder2.predict(encoder2.predict(encoder1.predict(randImg))))\n#resultImg = decoder1.predict(encoder1.predict(randImg))\n#resultImg = autoencoder1.predict(randImg)",
      "execution_count": 147,
      "outputs": []
    },
    {
      "metadata": {
        "trusted": true
      },
      "cell_type": "code",
      "source": "randImg = randImg.reshape(28,28)\nresultImg = resultImg.reshape(28,28)\n\nprint(randImg.shape)\nprint(resultImg.shape)",
      "execution_count": 148,
      "outputs": [
        {
          "output_type": "stream",
          "text": "(28, 28)\n(28, 28)\n",
          "name": "stdout"
        }
      ]
    },
    {
      "metadata": {
        "trusted": true
      },
      "cell_type": "code",
      "source": "origFig = plt.imshow(randImg, 'gray')",
      "execution_count": 149,
      "outputs": [
        {
          "output_type": "display_data",
          "data": {
            "image/png": "[encoded data removed]",
            "text/plain": "<matplotlib.figure.Figure at 0x7f3a451ea320>"
          },
          "metadata": {}
        }
      ]
    },
    {
      "metadata": {
        "trusted": true
      },
      "cell_type": "code",
      "source": "resFig = plt.imshow(resultImg, 'gray')",
      "execution_count": 150,
      "outputs": [
        {
          "output_type": "display_data",
          "data": {
            "image/png": "[encoded data removed]",
            "text/plain": "<matplotlib.figure.Figure at 0x7f3a451ad4e0>"
          },
          "metadata": {}
        }
      ]
    },
    {
      "metadata": {},
      "cell_type": "markdown",
      "source": "# tune auto-encoder 2"
    },
    {
      "metadata": {
        "trusted": true
      },
      "cell_type": "code",
      "source": "inputImageFull = Input(shape=inputShape)\nx = encoder1(inputImageFull)\nx = encoder2(x)\nx = decoder2(x)\nx = decoder1(x)\nautoencoderfull = Model(inputImageFull, x)\nautoencoderfull.compile(optimizer='adam', loss='binary_crossentropy')",
      "execution_count": 163,
      "outputs": []
    },
    {
      "metadata": {
        "trusted": true
      },
      "cell_type": "code",
      "source": "# training network\n\nhistory = autoencoderfull.fit(x1_train, x1_train, epochs=4, batch_size=128, shuffle=True, validation_data=(x1_test,x1_test))\n\n# 0.0661",
      "execution_count": 164,
      "outputs": [
        {
          "output_type": "stream",
          "text": "Train on 60000 samples, validate on 10000 samples\nEpoch 1/4\n60000/60000 [==============================] - 300s 5ms/step - loss: 0.0822 - val_loss: 0.0689\nEpoch 2/4\n60000/60000 [==============================] - 278s 5ms/step - loss: 0.0724 - val_loss: 0.0689\nEpoch 3/4\n60000/60000 [==============================] - 262s 4ms/step - loss: 0.0702 - val_loss: 0.0678\nEpoch 4/4\n60000/60000 [==============================] - 241s 4ms/step - loss: 0.0691 - val_loss: 0.0677\n",
          "name": "stdout"
        }
      ]
    },
    {
      "metadata": {
        "trusted": true
      },
      "cell_type": "code",
      "source": "# stitch together encoders and decoders to prove valid training\n\nx = random.randint(0,testLength-1)\nrandImg = np.reshape(x_test[x], (1, 28, 28, 1)) \n\nresultImg = autoencoderfull.predict(randImg)",
      "execution_count": 177,
      "outputs": []
    },
    {
      "metadata": {
        "trusted": true
      },
      "cell_type": "code",
      "source": "randImg = randImg.reshape(28,28)\nresultImg = resultImg.reshape(28,28)\n\nprint(randImg.shape)\nprint(resultImg.shape)",
      "execution_count": 178,
      "outputs": [
        {
          "output_type": "stream",
          "text": "(28, 28)\n(28, 28)\n",
          "name": "stdout"
        }
      ]
    },
    {
      "metadata": {
        "trusted": true
      },
      "cell_type": "code",
      "source": "origFig = plt.imshow(randImg, 'gray')",
      "execution_count": 179,
      "outputs": [
        {
          "output_type": "display_data",
          "data": {
            "image/png": "[encoded data removed]",
            "text/plain": "<matplotlib.figure.Figure at 0x7f3a523abc88>"
          },
          "metadata": {}
        }
      ]
    },
    {
      "metadata": {
        "trusted": true
      },
      "cell_type": "code",
      "source": "resFig = plt.imshow(resultImg, 'gray')",
      "execution_count": 180,
      "outputs": [
        {
          "output_type": "display_data",
          "data": {
            "image/png": "[encoded data removed]",
            "text/plain": "<matplotlib.figure.Figure at 0x7f3a4e466550>"
          },
          "metadata": {}
        }
      ]
    }
  ],
  "metadata": {
    "kernelspec": {
      "name": "python36",
      "display_name": "Python 3.6",
      "language": "python"
    },
    "language_info": {
      "mimetype": "text/x-python",
      "nbconvert_exporter": "python",
      "name": "python",
      "pygments_lexer": "ipython3",
      "version": "3.6.6",
      "file_extension": ".py",
      "codemirror_mode": {
        "version": 3,
        "name": "ipython"
      }
    }
  },
  "nbformat": 4,
  "nbformat_minor": 2
}