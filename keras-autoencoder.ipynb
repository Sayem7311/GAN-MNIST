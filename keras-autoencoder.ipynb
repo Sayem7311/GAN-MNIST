{
  "cells": [
    {
      "metadata": {},
      "cell_type": "markdown",
      "source": "# Overview\n\nThe autoencoder developed is a proof of concept for keras on Azure notebooks withe MNIST dataset. The goal is to provide this code as it will help in general development of the GAN. \n\nAt a later time we may return to the autoencoder to perhaps make the GAN find a solution faster / handle a local maxima."
    },
    {
      "metadata": {
        "trusted": true
      },
      "cell_type": "code",
      "source": "# makes plots / images embedded in the file\n%matplotlib inline",
      "execution_count": 6,
      "outputs": []
    },
    {
      "metadata": {},
      "cell_type": "markdown",
      "source": "# Generate Autoencoder (Stage 1)\n\nThis wikipedia link should be helpful to understand the general idea\nhttps://en.wikipedia.org/wiki/Autoencoder"
    },
    {
      "metadata": {
        "trusted": true
      },
      "cell_type": "code",
      "source": "# Import data\n\nfrom keras.datasets import mnist\nimport numpy as np\n\n(x1_train, y1_train), (x1_test, y1_test) = mnist.load_data()\n\ninputShape = (28,28,1)\ntrainLength = 60000\ntestLength = 10000\n\n# format data for consumption in the network\nx1_train = x1_train.astype('float32') / 255\nx1_test = x1_test.astype('float32') / 255\nx1_train = np.reshape(x1_train, (len(x1_train), 28, 28, 1))\nx1_test = np.reshape(x1_test, (len(x1_test), 28, 28, 1))\n",
      "execution_count": 7,
      "outputs": []
    },
    {
      "metadata": {
        "trusted": true
      },
      "cell_type": "code",
      "source": "# Import keras layers\n\nfrom keras import backend as k\nfrom keras.models import Model, Sequential\nfrom keras.layers import Input, Conv2D, MaxPooling2D, UpSampling2D, SpatialDropout2D, Dense, Reshape, Flatten, Conv2DTranspose\n",
      "execution_count": 8,
      "outputs": []
    },
    {
      "metadata": {
        "trusted": true
      },
      "cell_type": "code",
      "source": "# Generate an autoencoder layer\n#\n# [image] -> encoder -> [code] -> decoder -> [~image]\n#\n# The goal of an autoencoder layer is to generate the same output as was fed in. The catch is the network must learn to \n# compress the data. As noticed the first layer moves from an image to a set of smaller images as the code.\n\nencoder1 = Sequential()\nencoder1.add(Conv2D(8, (3,3), activation='relu', padding='same', input_shape=inputShape)) \nencoder1.add(SpatialDropout2D(0.25))\nencoder1.add(Conv2D(8, (3,3), strides=(2,2), activation='relu', padding='same'))\n\ncodeShape1 = (14,14,8)\n\ndecoder1 = Sequential()\ndecoder1.add(Conv2DTranspose(4, (3,3), strides=(2,2), activation='relu', padding='same', input_shape=codeShape1))\ndecoder1.add(Conv2DTranspose(1, (3,3), activation='sigmoid', padding='same'))\n\nprint(encoder1.summary())\nprint(decoder1.summary())\n\ninputImage1 = Input(shape=inputShape)\nx = encoder1(inputImage1)\nx = decoder1(x)\nautoencoder1 = Model(inputImage1, x)\nautoencoder1.compile(optimizer='adam', loss='binary_crossentropy')\n",
      "execution_count": 9,
      "outputs": [
        {
          "output_type": "stream",
          "text": "_________________________________________________________________\nLayer (type)                 Output Shape              Param #   \n=================================================================\nconv2d_5 (Conv2D)            (None, 28, 28, 8)         80        \n_________________________________________________________________\nspatial_dropout2d_3 (Spatial (None, 28, 28, 8)         0         \n_________________________________________________________________\nconv2d_6 (Conv2D)            (None, 14, 14, 8)         584       \n=================================================================\nTotal params: 664\nTrainable params: 664\nNon-trainable params: 0\n_________________________________________________________________\nNone\n_________________________________________________________________\nLayer (type)                 Output Shape              Param #   \n=================================================================\nconv2d_transpose_5 (Conv2DTr (None, 28, 28, 4)         292       \n_________________________________________________________________\nconv2d_transpose_6 (Conv2DTr (None, 28, 28, 1)         37        \n=================================================================\nTotal params: 329\nTrainable params: 329\nNon-trainable params: 0\n_________________________________________________________________\nNone\n",
          "name": "stdout"
        }
      ]
    },
    {
      "metadata": {
        "trusted": true
      },
      "cell_type": "code",
      "source": "# training network\n\nhistory = autoencoder1.fit(x1_train, x1_train, epochs=4, batch_size=128, shuffle=True, validation_data=(x1_test,x1_test))\n\n# 0.0661",
      "execution_count": 10,
      "outputs": [
        {
          "output_type": "stream",
          "text": "Train on 60000 samples, validate on 10000 samples\nEpoch 1/4\n60000/60000 [==============================] - 93s 2ms/step - loss: 0.1716 - val_loss: 0.0675\nEpoch 2/4\n60000/60000 [==============================] - 91s 2ms/step - loss: 0.0737 - val_loss: 0.0651\nEpoch 3/4\n60000/60000 [==============================] - 104s 2ms/step - loss: 0.0705 - val_loss: 0.0642\nEpoch 4/4\n60000/60000 [==============================] - 105s 2ms/step - loss: 0.0684 - val_loss: 0.0640\n",
          "name": "stdout"
        }
      ]
    },
    {
      "metadata": {
        "trusted": true
      },
      "cell_type": "code",
      "source": "# Take a random test sample to demonstrate that it learned\n\nimport random\nx = random.randint(0,testLength-1)\nrandImg = np.reshape(x1_test[x], (1, 28, 28, 1)) \n\nresultImg = autoencoder1.predict(randImg, batch_size=1)",
      "execution_count": 11,
      "outputs": []
    },
    {
      "metadata": {
        "trusted": true
      },
      "cell_type": "code",
      "source": "randImg = randImg.reshape(28,28)\nresultImg = resultImg.reshape(28,28)\n\nprint(randImg.shape)\nprint(resultImg.shape)",
      "execution_count": 12,
      "outputs": [
        {
          "output_type": "stream",
          "text": "(28, 28)\n(28, 28)\n",
          "name": "stdout"
        }
      ]
    },
    {
      "metadata": {
        "trusted": true
      },
      "cell_type": "code",
      "source": "# Displaying original image\n\nfrom matplotlib import pyplot as plt\norigFig = plt.imshow(randImg, 'gray')",
      "execution_count": 13,
      "outputs": [
        {
          "output_type": "display_data",
          "data": {
            "image/png": "[encoded data removed]",
            "text/plain": "<matplotlib.figure.Figure at 0x7f1edd13cba8>"
          },
          "metadata": {}
        }
      ]
    },
    {
      "metadata": {
        "trusted": true
      },
      "cell_type": "code",
      "source": "# Display the result after passing through the encoder\n\nresFig = plt.imshow(resultImg, 'gray')",
      "execution_count": 14,
      "outputs": [
        {
          "output_type": "display_data",
          "data": {
            "image/png": "[encoded data removed]",
            "text/plain": "<matplotlib.figure.Figure at 0x7f1edb45aef0>"
          },
          "metadata": {}
        }
      ]
    },
    {
      "metadata": {},
      "cell_type": "markdown",
      "source": "# Generate Autoencoder (Stage 2)"
    },
    {
      "metadata": {
        "trusted": true
      },
      "cell_type": "code",
      "source": "# Use encoder1 to generate the training and test-data for stage 2\n\nx2_train = encoder1.predict(np.reshape(x1_train,(len(x1_train),28,28,1)))\nx2_test = encoder1.predict(np.reshape(x1_test,(len(x1_test),28,28,1)))\n\nprint(x2_train.shape)\nprint(x2_test.shape)",
      "execution_count": 15,
      "outputs": [
        {
          "output_type": "stream",
          "text": "(60000, 14, 14, 8)\n(10000, 14, 14, 8)\n",
          "name": "stdout"
        }
      ]
    },
    {
      "metadata": {
        "trusted": true
      },
      "cell_type": "code",
      "source": "print(codeShape1)",
      "execution_count": 16,
      "outputs": [
        {
          "output_type": "stream",
          "text": "(14, 14, 8)\n",
          "name": "stdout"
        }
      ]
    },
    {
      "metadata": {
        "trusted": true
      },
      "cell_type": "code",
      "source": "# this encoder has the goal of generating the same code as the from encoder 1.\n\nencoder2 = Sequential()\nencoder2.add(Conv2D(8, (3,3), activation='relu', padding='same', input_shape=codeShape1)) \nencoder2.add(SpatialDropout2D(0.25))\nencoder2.add(Conv2D(16, (3,3), strides=(2,2), activation='relu', padding='same'))\n\ncodeShape2 = (7,7,16)\n\ndecoder2 = Sequential()\ndecoder2.add(Conv2DTranspose(8, (3,3), strides=(2,2), activation='relu', padding='same', input_shape=codeShape2))\n\nprint(encoder2.summary())\nprint(decoder2.summary())\n\ninputImage2 = Input(shape=codeShape1)\nx = encoder2(inputImage2)\nx = decoder2(x)\nautoencoder2 = Model(inputImage2, x)\nautoencoder2.compile(optimizer='adam', loss='binary_crossentropy')",
      "execution_count": 17,
      "outputs": [
        {
          "output_type": "stream",
          "text": "_________________________________________________________________\nLayer (type)                 Output Shape              Param #   \n=================================================================\nconv2d_7 (Conv2D)            (None, 14, 14, 8)         584       \n_________________________________________________________________\nspatial_dropout2d_4 (Spatial (None, 14, 14, 8)         0         \n_________________________________________________________________\nconv2d_8 (Conv2D)            (None, 7, 7, 16)          1168      \n=================================================================\nTotal params: 1,752\nTrainable params: 1,752\nNon-trainable params: 0\n_________________________________________________________________\nNone\n_________________________________________________________________\nLayer (type)                 Output Shape              Param #   \n=================================================================\nconv2d_transpose_7 (Conv2DTr (None, 14, 14, 8)         1160      \n=================================================================\nTotal params: 1,160\nTrainable params: 1,160\nNon-trainable params: 0\n_________________________________________________________________\nNone\n",
          "name": "stdout"
        }
      ]
    },
    {
      "metadata": {
        "trusted": true
      },
      "cell_type": "code",
      "source": "# training network\n\nhistory = autoencoder2.fit(x2_train, x2_train, epochs=4, batch_size=128, shuffle=True, validation_data=(x2_test,x2_test))\n\n# 0.0661",
      "execution_count": 18,
      "outputs": [
        {
          "output_type": "stream",
          "text": "Train on 60000 samples, validate on 10000 samples\nEpoch 1/4\n60000/60000 [==============================] - 67s 1ms/step - loss: -0.5163 - val_loss: -1.9774\nEpoch 2/4\n60000/60000 [==============================] - 54s 897us/step - loss: -1.8848 - val_loss: -2.2126\nEpoch 3/4\n60000/60000 [==============================] - 56s 937us/step - loss: -1.9946 - val_loss: -2.2840\nEpoch 4/4\n60000/60000 [==============================] - 53s 887us/step - loss: -2.1971 - val_loss: -2.4231\n",
          "name": "stdout"
        }
      ]
    },
    {
      "metadata": {
        "trusted": true
      },
      "cell_type": "code",
      "source": "# stitch together encoders and decoders to prove valid training\n\nx = random.randint(0,testLength-1)\nrandImg = np.reshape(x1_test[x], (1, 28, 28, 1)) \n\nresultImg = decoder1.predict(decoder2.predict(encoder2.predict(encoder1.predict(randImg))))",
      "execution_count": 19,
      "outputs": []
    },
    {
      "metadata": {
        "trusted": true
      },
      "cell_type": "code",
      "source": "randImg = randImg.reshape(28,28)\nresultImg = resultImg.reshape(28,28)\n\nprint(randImg.shape)\nprint(resultImg.shape)",
      "execution_count": 20,
      "outputs": [
        {
          "output_type": "stream",
          "text": "(28, 28)\n(28, 28)\n",
          "name": "stdout"
        }
      ]
    },
    {
      "metadata": {
        "trusted": true
      },
      "cell_type": "code",
      "source": "origFig = plt.imshow(randImg, 'gray')",
      "execution_count": 21,
      "outputs": [
        {
          "output_type": "display_data",
          "data": {
            "image/png": "[encoded data removed]",
            "text/plain": "<matplotlib.figure.Figure at 0x7f1edb1ab630>"
          },
          "metadata": {}
        }
      ]
    },
    {
      "metadata": {
        "trusted": true
      },
      "cell_type": "code",
      "source": "resFig = plt.imshow(resultImg, 'gray')",
      "execution_count": 22,
      "outputs": [
        {
          "output_type": "display_data",
          "data": {
            "image/png": "[encoded data removed]",
            "text/plain": "<matplotlib.figure.Figure at 0x7f1eda125518>"
          },
          "metadata": {}
        }
      ]
    },
    {
      "metadata": {},
      "cell_type": "markdown",
      "source": "# tune auto-encoder 2"
    },
    {
      "metadata": {
        "trusted": true
      },
      "cell_type": "code",
      "source": "# Merging both autoencoder layers in order to better optimize the network\n\ninputImageFull = Input(shape=inputShape)\nx = encoder1(inputImageFull)\nx = encoder2(x)\nx = decoder2(x)\nx = decoder1(x)\nautoencoderfull = Model(inputImageFull, x)\nautoencoderfull.compile(optimizer='adam', loss='binary_crossentropy')",
      "execution_count": 23,
      "outputs": []
    },
    {
      "metadata": {
        "trusted": true
      },
      "cell_type": "code",
      "source": "# training network\n\nhistory = autoencoderfull.fit(x1_train, x1_train, epochs=4, batch_size=128, shuffle=True, validation_data=(x1_test,x1_test))\n\n# 0.0661",
      "execution_count": 24,
      "outputs": [
        {
          "output_type": "stream",
          "text": "Train on 60000 samples, validate on 10000 samples\nEpoch 1/4\n60000/60000 [==============================] - 119s 2ms/step - loss: 0.0885 - val_loss: 0.0699\nEpoch 2/4\n60000/60000 [==============================] - 132s 2ms/step - loss: 0.0743 - val_loss: 0.0679\nEpoch 3/4\n60000/60000 [==============================] - 122s 2ms/step - loss: 0.0713 - val_loss: 0.0674\nEpoch 4/4\n60000/60000 [==============================] - 120s 2ms/step - loss: 0.0698 - val_loss: 0.0673\n",
          "name": "stdout"
        }
      ]
    },
    {
      "metadata": {
        "trusted": true
      },
      "cell_type": "code",
      "source": "# stitch together encoders and decoders to prove valid training\n\nx = random.randint(0,testLength-1)\nrandImg = np.reshape(x1_test[x], (1, 28, 28, 1)) \n\nresultImg = autoencoderfull.predict(randImg)",
      "execution_count": 25,
      "outputs": []
    },
    {
      "metadata": {
        "trusted": true
      },
      "cell_type": "code",
      "source": "randImg = randImg.reshape(28,28)\nresultImg = resultImg.reshape(28,28)\n\nprint(randImg.shape)\nprint(resultImg.shape)",
      "execution_count": 26,
      "outputs": [
        {
          "output_type": "stream",
          "text": "(28, 28)\n(28, 28)\n",
          "name": "stdout"
        }
      ]
    },
    {
      "metadata": {
        "trusted": true
      },
      "cell_type": "code",
      "source": "origFig = plt.imshow(randImg, 'gray')",
      "execution_count": 27,
      "outputs": [
        {
          "output_type": "display_data",
          "data": {
            "image/png": "[encoded data removed]",
            "text/plain": "<matplotlib.figure.Figure at 0x7f1eda0864e0>"
          },
          "metadata": {}
        }
      ]
    },
    {
      "metadata": {
        "trusted": true
      },
      "cell_type": "code",
      "source": "resFig = plt.imshow(resultImg, 'gray')",
      "execution_count": 28,
      "outputs": [
        {
          "output_type": "display_data",
          "data": {
            "image/png": "[encoded data removed]",
            "text/plain": "<matplotlib.figure.Figure at 0x7f1ed9073860>"
          },
          "metadata": {}
        }
      ]
    },
    {
      "metadata": {},
      "cell_type": "markdown",
      "source": "# Generate Stage 3"
    },
    {
      "metadata": {
        "trusted": true
      },
      "cell_type": "code",
      "source": "# Use encoder1 and encoder 2 to generate the training and test-data for stage 2\n\nx3_train = encoder2.predict(encoder1.predict(np.reshape(x1_train,(len(x1_train),28,28,1))))\nx3_test = encoder2.predict(encoder1.predict(np.reshape(x1_test,(len(x1_test),28,28,1))))\n\nprint(x3_train.shape)\nprint(x3_test.shape)",
      "execution_count": 29,
      "outputs": [
        {
          "output_type": "stream",
          "text": "(60000, 7, 7, 16)\n(10000, 7, 7, 16)\n",
          "name": "stdout"
        }
      ]
    },
    {
      "metadata": {
        "trusted": true
      },
      "cell_type": "code",
      "source": "print(codeShape2)",
      "execution_count": 30,
      "outputs": [
        {
          "output_type": "stream",
          "text": "(7, 7, 16)\n",
          "name": "stdout"
        }
      ]
    },
    {
      "metadata": {
        "trusted": true
      },
      "cell_type": "code",
      "source": "# Generating a different kind of network now. Before we used convolution as that is relativly good for images, however our\n# code is starting to get smaller so we are going to switch over to a flat network no\n\nencoder3 = Sequential()\nencoder3.add(Conv2D(16, (3,3), activation='relu', padding='same', input_shape=codeShape2)) \nencoder3.add(SpatialDropout2D(0.25))\nencoder3.add(Conv2D(16, (3,3), strides=(3,3), activation='relu', padding='same'))\nencoder3.add(Flatten())\nencoder3.add(Dense(64, activation='relu'))\n\ncodeShape3 = (64,)\n\ndecoder3 = Sequential()\ndecoder3.add(Dense(144, activation='relu', input_shape=codeShape3))\ndecoder3.add(Dense(784, activation='relu'))\ndecoder3.add(Reshape(codeShape2))\n\nprint(encoder3.summary())\nprint(decoder3.summary())\n\ninputImage3 = Input(shape=codeShape2)\nx = encoder3(inputImage3)\nx = decoder3(x)\nautoencoder3 = Model(inputImage3, x)\nautoencoder3.compile(optimizer='adam', loss='mean_squared_error')\n",
      "execution_count": 44,
      "outputs": [
        {
          "output_type": "stream",
          "text": "_________________________________________________________________\nLayer (type)                 Output Shape              Param #   \n=================================================================\nconv2d_31 (Conv2D)           (None, 7, 7, 16)          2320      \n_________________________________________________________________\nspatial_dropout2d_16 (Spatia (None, 7, 7, 16)          0         \n_________________________________________________________________\nconv2d_32 (Conv2D)           (None, 3, 3, 16)          2320      \n_________________________________________________________________\nflatten_10 (Flatten)         (None, 144)               0         \n_________________________________________________________________\ndense_9 (Dense)              (None, 64)                9280      \n=================================================================\nTotal params: 13,920\nTrainable params: 13,920\nNon-trainable params: 0\n_________________________________________________________________\nNone\n_________________________________________________________________\nLayer (type)                 Output Shape              Param #   \n=================================================================\ndense_10 (Dense)             (None, 144)               9360      \n_________________________________________________________________\ndense_11 (Dense)             (None, 784)               113680    \n_________________________________________________________________\nreshape_2 (Reshape)          (None, 7, 7, 16)          0         \n=================================================================\nTotal params: 123,040\nTrainable params: 123,040\nNon-trainable params: 0\n_________________________________________________________________\nNone\n",
          "name": "stdout"
        }
      ]
    },
    {
      "metadata": {
        "trusted": true
      },
      "cell_type": "code",
      "source": "# training network\n\nhistory = autoencoder3.fit(x3_train, x3_train, epochs=3, batch_size=512, shuffle=True, validation_data=(x3_test,x3_test))\n",
      "execution_count": 45,
      "outputs": [
        {
          "output_type": "stream",
          "text": "Train on 60000 samples, validate on 10000 samples\nEpoch 1/3\n60000/60000 [==============================] - 20s 325us/step - loss: 1.0578 - val_loss: 0.8947\nEpoch 2/3\n60000/60000 [==============================] - 19s 324us/step - loss: 0.5990 - val_loss: 0.7671\nEpoch 3/3\n60000/60000 [==============================] - 19s 310us/step - loss: 0.4910 - val_loss: 0.6690\n",
          "name": "stdout"
        }
      ]
    },
    {
      "metadata": {
        "trusted": true
      },
      "cell_type": "code",
      "source": "# stitch together encoders and decoders to prove valid training\n\nx = random.randint(0,testLength-1)\nrandImg = np.reshape(x1_test[x], (1, 28, 28, 1)) \n\nx = encoder1.predict(randImg)\nx = encoder2.predict(x)\nx = encoder3.predict(x)\nx = decoder3.predict(x)\nx = decoder2.predict(x)\nresultImg = decoder1.predict(x)",
      "execution_count": 46,
      "outputs": []
    },
    {
      "metadata": {
        "trusted": true
      },
      "cell_type": "code",
      "source": "randImg = randImg.reshape(28,28)\nresultImg = resultImg.reshape(28,28)\n\nprint(randImg.shape)\nprint(resultImg.shape)",
      "execution_count": 47,
      "outputs": [
        {
          "output_type": "stream",
          "text": "(28, 28)\n(28, 28)\n",
          "name": "stdout"
        }
      ]
    },
    {
      "metadata": {
        "trusted": true
      },
      "cell_type": "code",
      "source": "origFig = plt.imshow(randImg, 'gray')",
      "execution_count": 48,
      "outputs": [
        {
          "output_type": "display_data",
          "data": {
            "image/png": "[encoded data removed]",
            "text/plain": "<matplotlib.figure.Figure at 0x7f1ed4037d68>"
          },
          "metadata": {}
        }
      ]
    },
    {
      "metadata": {
        "trusted": true
      },
      "cell_type": "code",
      "source": "resFig = plt.imshow(resultImg, 'gray')",
      "execution_count": 49,
      "outputs": [
        {
          "output_type": "display_data",
          "data": {
            "image/png": "[encoded data removed]",
            "text/plain": "<matplotlib.figure.Figure at 0x7f1eb9298898>"
          },
          "metadata": {}
        }
      ]
    },
    {
      "metadata": {
        "trusted": true
      },
      "cell_type": "code",
      "source": "# If we were to continue we would further tune encoder 3, then start encoder 4, tune encoder 4, etc.",
      "execution_count": null,
      "outputs": []
    }
  ],
  "metadata": {
    "kernelspec": {
      "name": "python36",
      "display_name": "Python 3.6",
      "language": "python"
    },
    "language_info": {
      "mimetype": "text/x-python",
      "nbconvert_exporter": "python",
      "name": "python",
      "pygments_lexer": "ipython3",
      "version": "3.6.6",
      "file_extension": ".py",
      "codemirror_mode": {
        "version": 3,
        "name": "ipython"
      }
    }
  },
  "nbformat": 4,
  "nbformat_minor": 2
}